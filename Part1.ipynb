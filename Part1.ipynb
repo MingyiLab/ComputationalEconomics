{
 "cells": [
  {
   "cell_type": "code",
   "execution_count": 1,
   "id": "590d2711",
   "metadata": {},
   "outputs": [],
   "source": [
    "import numpy as np\n"
   ]
  },
  {
   "cell_type": "markdown",
   "id": "94871b58",
   "metadata": {},
   "source": [
    "## Linear Equations\n",
    "$$\n",
    "Ax = b\n",
    "$$\n",
    "### Solution 1:\n",
    "- Fixed point iteration:\n",
    "\n",
    "    define $G(x) = Ax - b + x = ( A + I)x - b$, and let $G(x)$ be the x in the next iteration\n",
    "    \n",
    "    The iterative process converges if all eigenvalues of (A+I) is within the unit circle. However, this condition is too restrict, which is unlikely to happen in real cases. Therefore, we use Gauss-Jacobi, Gauss-Seidel and other iterative shemes instead.\n",
    "    \n",
    "    "
   ]
  },
  {
   "cell_type": "markdown",
   "id": "8adc7e8e",
   "metadata": {},
   "source": [
    "### Gauss-Jacobi algorithm"
   ]
  },
  {
   "cell_type": "code",
   "execution_count": 5,
   "id": "ea867e72",
   "metadata": {},
   "outputs": [],
   "source": [
    "def gauss_jacobi(A,b, x):\n",
    "    # Extract the diagonal entries\n",
    "    N = np.diagflat(np.diag(A))\n",
    "    P = N - A\n",
    "    return np.linalg.solve(N, b + P.dot(x))"
   ]
  },
  {
   "cell_type": "code",
   "execution_count": 6,
   "id": "92df97f3",
   "metadata": {},
   "outputs": [
    {
     "name": "stdout",
     "output_type": "stream",
     "text": [
      "Successfully find solutions: [-1.01708116  0.16642876  0.93157338 -0.72527202]\n"
     ]
    }
   ],
   "source": [
    "\n",
    "A = np.array([[3,1,2,-2],[1,5,2,-3],[2,3,6,3],[1,1,2,-5]])\n",
    "x = np.zeros(shape = len(A))\n",
    "b = np.random.uniform(high = 5,size=len(A))\n",
    "epsilon = 1e-14\n",
    "pre_x = np.zeros_like(x)\n",
    "while True:\n",
    "    pre_x = x\n",
    "    x = gauss_jacobi(A,b,x)\n",
    "    if  ((x - pre_x)**2).sum() < epsilon:\n",
    "        print('Successfully find solutions:', x)\n",
    "        break"
   ]
  },
  {
   "cell_type": "markdown",
   "id": "c56ab1fb",
   "metadata": {},
   "source": [
    "### Gauss-Seidel algorithm"
   ]
  },
  {
   "cell_type": "code",
   "execution_count": 7,
   "id": "3d9047f6",
   "metadata": {},
   "outputs": [],
   "source": [
    "def gauss_seidel(A,b, x,w = 1,shuffle = False):\n",
    "        # Allowing dampening and extrapolating with weight w\n",
    "        # The sequence of solving x's matters for Gauss-Seidel algorithm, we add a shuffle option\n",
    "    if shuffle == True:\n",
    "        values = np.concatenate([A,b.reshape(len(b),-1)],axis=1)\n",
    "        A = values[:,:-1]\n",
    "        b = values[:,-1]\n",
    "    \n",
    "    # Extract the diagonal entries, lower triangular, and upper triangular\n",
    "    L = np.tril(A)\n",
    "    U = A - L\n",
    "        \n",
    "    return w * np.linalg.solve(L, b - U.dot(x)) + (1 - w) * x"
   ]
  },
  {
   "cell_type": "code",
   "execution_count": 8,
   "id": "8af1c269",
   "metadata": {},
   "outputs": [
    {
     "data": {
      "text/plain": [
       "array([[ 3,  1,  2, -2],\n",
       "       [ 1,  5,  2, -3],\n",
       "       [ 2,  3,  6,  3],\n",
       "       [ 1,  1,  2, -5]])"
      ]
     },
     "execution_count": 8,
     "metadata": {},
     "output_type": "execute_result"
    }
   ],
   "source": [
    "A"
   ]
  },
  {
   "cell_type": "code",
   "execution_count": 9,
   "id": "6cc630e6",
   "metadata": {},
   "outputs": [],
   "source": [
    "N = np.diag(A)"
   ]
  },
  {
   "cell_type": "code",
   "execution_count": 10,
   "id": "8923bb87",
   "metadata": {},
   "outputs": [
    {
     "data": {
      "text/plain": [
       "(4,)"
      ]
     },
     "execution_count": 10,
     "metadata": {},
     "output_type": "execute_result"
    }
   ],
   "source": [
    "(np.diag(A)).shape"
   ]
  },
  {
   "cell_type": "code",
   "execution_count": 11,
   "id": "921491c6",
   "metadata": {},
   "outputs": [
    {
     "data": {
      "text/plain": [
       "array([[ 0,  1,  2, -2],\n",
       "       [ 1,  0,  2, -3],\n",
       "       [ 2,  3,  0,  3],\n",
       "       [ 1,  1,  2,  0]])"
      ]
     },
     "execution_count": 11,
     "metadata": {},
     "output_type": "execute_result"
    }
   ],
   "source": [
    "A - np.diagflat(np.diag(A))"
   ]
  },
  {
   "cell_type": "code",
   "execution_count": 12,
   "id": "5c7e9bc6",
   "metadata": {},
   "outputs": [],
   "source": [
    "# Wrap the two linear system solves into a Linear Solver\n",
    "class LinearSolver:\n",
    "    \n",
    "    # We allow direct call methods in the class\n",
    "    @staticmethod\n",
    "    def gauss_jacobi(A, b, tol=1e-10):\n",
    "        x = np.zeros_like(b)\n",
    "        N = np.diagflat(np.diag(A))\n",
    "        P = A - N\n",
    "        \n",
    "        while True:\n",
    "            pre_x = x.copy()\n",
    "            x = np.linalg.solve(N, b - P.dot(pre_x))\n",
    "            if np.sum((x - pre_x) ** 2) < tol:\n",
    "                print('Successfully found solutions with Jacobi method:', x)\n",
    "                break\n",
    "        \n",
    "        print(\"Results for Ax - b =\", A.dot(x) - b)\n",
    "        return x\n",
    "    \n",
    "    @staticmethod\n",
    "    def gauss_seidel(A, b, w=1, shuffle=False, tol=1e-10):\n",
    "        x = np.zeros_like(b)\n",
    "        \n",
    "        if shuffle:\n",
    "            indices = np.arange(len(b))\n",
    "            np.random.shuffle(indices)\n",
    "            A = A[indices]\n",
    "            b = b[indices]\n",
    "        \n",
    "        L = np.tril(A)\n",
    "        U = A - L\n",
    "        \n",
    "        while True:\n",
    "            pre_x = x.copy()\n",
    "            x = w * np.linalg.solve(L, b - U.dot(pre_x)) + (1 - w) * pre_x\n",
    "            if np.sum((x - pre_x) ** 2) < tol:\n",
    "                print('Successfully found solutions with Gauss-Seidel method:', x)\n",
    "                break\n",
    "        \n",
    "        print(\"Results for Ax - b =\", A.dot(x) - b)\n",
    "        return x\n"
   ]
  },
  {
   "cell_type": "code",
   "execution_count": 13,
   "id": "87122983",
   "metadata": {},
   "outputs": [],
   "source": [
    "A = np.array([[1,.5,.3],[.6,1,.1],[.2,.4,1]])\n",
    "b = np.array([5.,7.,4.])\n"
   ]
  },
  {
   "cell_type": "code",
   "execution_count": 14,
   "id": "bc1057b9",
   "metadata": {},
   "outputs": [
    {
     "name": "stdout",
     "output_type": "stream",
     "text": [
      "Successfully found solutions with Jacobi method: [1.67155639 5.86510467 1.31964982]\n",
      "Results for Ax - b = [3.67428675e-06 3.48811842e-06 2.97013887e-06]\n",
      "Successfully found solutions with Gauss-Seidel method: [1.67155553 5.86510185 1.31964815]\n",
      "Results for Ax - b = [ 9.00075156e-07 -1.41752707e-08  0.00000000e+00]\n"
     ]
    },
    {
     "data": {
      "text/plain": [
       "array([1.67155553, 5.86510185, 1.31964815])"
      ]
     },
     "execution_count": 14,
     "metadata": {},
     "output_type": "execute_result"
    }
   ],
   "source": [
    "lin_solver = LinearSolver()\n",
    "lin_solver.gauss_jacobi(A,b)\n",
    "lin_solver.gauss_seidel(A,b)"
   ]
  }
 ],
 "metadata": {
  "kernelspec": {
   "display_name": "Python 3 (ipykernel)",
   "language": "python",
   "name": "python3"
  },
  "language_info": {
   "codemirror_mode": {
    "name": "ipython",
    "version": 3
   },
   "file_extension": ".py",
   "mimetype": "text/x-python",
   "name": "python",
   "nbconvert_exporter": "python",
   "pygments_lexer": "ipython3",
   "version": "3.9.7"
  }
 },
 "nbformat": 4,
 "nbformat_minor": 5
}
