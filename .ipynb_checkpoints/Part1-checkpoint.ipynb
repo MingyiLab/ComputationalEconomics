{
 "cells": [
  {
   "cell_type": "code",
   "execution_count": 1,
   "id": "53f509ed",
   "metadata": {},
   "outputs": [],
   "source": [
    "import numpy as np\n"
   ]
  },
  {
   "cell_type": "markdown",
   "id": "d56a7ccd",
   "metadata": {},
   "source": [
    "## Linear Equations\n",
    "$$\n",
    "Ax = b\n",
    "$$\n",
    "### Solution 1:\n",
    "- Fixed point iteration:\n",
    "\n",
    "    define $G(x) = Ax - b + x = ( A + I)x - b$, and let $G(x)$ be the x in the next iteration\n",
    "    \n",
    "    The iterative process converges if all eigenvalues of (A+I) is within the unit circle. However, this condition is too restrict, which is unlikely to happen in real cases. Therefore, we use Gauss-Jacobi, Gauss-Seidel and other iterative shemes instead.\n",
    "    \n",
    "    "
   ]
  },
  {
   "cell_type": "markdown",
   "id": "4646d05d",
   "metadata": {},
   "source": [
    "### Gauss-Jacobi algorithm"
   ]
  },
  {
   "cell_type": "code",
   "execution_count": 5,
   "id": "cc7ff804",
   "metadata": {},
   "outputs": [],
   "source": [
    "def gauss_jacobi(A,b, x):\n",
    "    # Extract the diagonal entries\n",
    "    N = np.diagflat(np.diag(A))\n",
    "    P = N - A\n",
    "    return np.linalg.solve(N, b + P.dot(x))"
   ]
  },
  {
   "cell_type": "code",
   "execution_count": 6,
   "id": "7f9d963c",
   "metadata": {},
   "outputs": [
    {
     "name": "stdout",
     "output_type": "stream",
     "text": [
      "Successfully find solutions: [-1.01708116  0.16642876  0.93157338 -0.72527202]\n"
     ]
    }
   ],
   "source": [
    "\n",
    "A = np.array([[3,1,2,-2],[1,5,2,-3],[2,3,6,3],[1,1,2,-5]])\n",
    "x = np.zeros(shape = len(A))\n",
    "b = np.random.uniform(high = 5,size=len(A))\n",
    "epsilon = 1e-14\n",
    "pre_x = np.zeros_like(x)\n",
    "while True:\n",
    "    pre_x = x\n",
    "    x = gauss_jacobi(A,b,x)\n",
    "    if  ((x - pre_x)**2).sum() < epsilon:\n",
    "        print('Successfully find solutions:', x)\n",
    "        break"
   ]
  },
  {
   "cell_type": "markdown",
   "id": "55e1ba4c",
   "metadata": {},
   "source": [
    "### Gauss-Seidel algorithm"
   ]
  },
  {
   "cell_type": "code",
   "execution_count": 7,
   "id": "2f1c8ae3",
   "metadata": {},
   "outputs": [],
   "source": [
    "def gauss_seidel(A,b, x,w = 1,shuffle = False):\n",
    "        # Allowing dampening and extrapolating with weight w\n",
    "        # The sequence of solving x's matters for Gauss-Seidel algorithm, we add a shuffle option\n",
    "    if shuffle == True:\n",
    "        values = np.concatenate([A,b.reshape(len(b),-1)],axis=1)\n",
    "        A = values[:,:-1]\n",
    "        b = values[:,-1]\n",
    "    \n",
    "    # Extract the diagonal entries, lower triangular, and upper triangular\n",
    "    L = np.tril(A)\n",
    "    U = A - L\n",
    "        \n",
    "    return w * np.linalg.solve(L, b - U.dot(x)) + (1 - w) * x"
   ]
  },
  {
   "cell_type": "code",
   "execution_count": 12,
   "id": "acd41053",
   "metadata": {},
   "outputs": [],
   "source": [
    "# Wrap the two linear system solves into a Linear Solver\n",
    "class LinearSolver:\n",
    "    \n",
    "    # We allow direct call methods in the class\n",
    "    @staticmethod\n",
    "    def gauss_jacobi(A, b, tol=1e-10):\n",
    "        x = np.zeros_like(b)\n",
    "        N = np.diagflat(np.diag(A))\n",
    "        P = A - N\n",
    "        \n",
    "        while True:\n",
    "            pre_x = x.copy()\n",
    "            x = np.linalg.solve(N, b - P.dot(pre_x))\n",
    "            if np.sum((x - pre_x) ** 2) < tol:\n",
    "                print('Successfully found solutions with Jacobi method:', x)\n",
    "                break\n",
    "        \n",
    "        print(\"Results for Ax - b =\", A.dot(x) - b)\n",
    "        return x\n",
    "    \n",
    "    @staticmethod\n",
    "    def gauss_seidel(A, b, w=1, shuffle=False, tol=1e-10):\n",
    "        x = np.zeros_like(b)\n",
    "        \n",
    "        if shuffle:\n",
    "            indices = np.arange(len(b))\n",
    "            np.random.shuffle(indices)\n",
    "            A = A[indices]\n",
    "            b = b[indices]\n",
    "        \n",
    "        L = np.tril(A)\n",
    "        U = A - L\n",
    "        \n",
    "        while True:\n",
    "            pre_x = x.copy()\n",
    "            x = w * np.linalg.solve(L, b - U.dot(pre_x)) + (1 - w) * pre_x\n",
    "            if np.sum((x - pre_x) ** 2) < tol:\n",
    "                print('Successfully found solutions with Gauss-Seidel method:', x)\n",
    "                break\n",
    "        \n",
    "        print(\"Results for Ax - b =\", A.dot(x) - b)\n",
    "        return x\n"
   ]
  },
  {
   "cell_type": "code",
   "execution_count": 13,
   "id": "913ad0d1",
   "metadata": {},
   "outputs": [],
   "source": [
    "A = np.array([[1,.5,.3],[.6,1,.1],[.2,.4,1]])\n",
    "b = np.array([5.,7.,4.])\n"
   ]
  },
  {
   "cell_type": "code",
   "execution_count": 14,
   "id": "24bd7748",
   "metadata": {},
   "outputs": [
    {
     "name": "stdout",
     "output_type": "stream",
     "text": [
      "Successfully found solutions with Jacobi method: [1.67155639 5.86510467 1.31964982]\n",
      "Results for Ax - b = [3.67428675e-06 3.48811842e-06 2.97013887e-06]\n",
      "Successfully found solutions with Gauss-Seidel method: [1.67155553 5.86510185 1.31964815]\n",
      "Results for Ax - b = [ 9.00075156e-07 -1.41752707e-08  0.00000000e+00]\n"
     ]
    },
    {
     "data": {
      "text/plain": [
       "array([1.67155553, 5.86510185, 1.31964815])"
      ]
     },
     "execution_count": 14,
     "metadata": {},
     "output_type": "execute_result"
    }
   ],
   "source": [
    "lin_solver = LinearSolver()\n",
    "lin_solver.gauss_jacobi(A,b)\n",
    "lin_solver.gauss_seidel(A,b)"
   ]
  },
  {
   "cell_type": "markdown",
   "id": "94cfc0e0",
   "metadata": {},
   "source": [
    "## Optimization"
   ]
  },
  {
   "cell_type": "markdown",
   "id": "3cdcb8fe",
   "metadata": {},
   "source": [
    "### Polytope\n",
    "- Polytope method can be used for any $R^n$ functions, regardless of continuity property\n",
    "- Polytope can guarantee a solution but cannot guarantee a global minimum (maximum)\n",
    "- If the objective is rough, Polytope method is advised"
   ]
  },
  {
   "cell_type": "code",
   "execution_count": 6,
   "id": "646ffab5",
   "metadata": {},
   "outputs": [],
   "source": [
    "def polytope_algorithm(f, simplex, epsilon):\n",
    "    \"\"\"\n",
    "    Description:\n",
    "    Perform the Polytope Algorithm.\n",
    "    \n",
    "    Parameters:\n",
    "    f (function): The objective function to minimize.\n",
    "    simplex (numpy array): Initial simplex, an (n+1)x(n) array.\n",
    "    epsilon (float): Stopping rule parameter.\n",
    "    \n",
    "    Returns:\n",
    "    numpy array: The optimized vertex of the simplex.\n",
    "    \"\"\"\n",
    "    \n",
    "    n = simplex.shape[0]\n",
    "    \n",
    "    while True:\n",
    "        # Step 1: Reorder the simplex vertices so that f(x^1) >= f(x^2) >= ... >= f(x^{n+1})\n",
    "        simplex = np.array(sorted(simplex, key=lambda x: f(x), reverse=True))\n",
    "        # Step 2: Find the least i such that f(x^i) > f(y^i) where y^i is the reflection of x^i\n",
    "        for i in range(n):\n",
    "            # We shrink the distance of the reflection\n",
    "            reflected = 1e-3 * np.mean(np.delete(initial_simplex,i,0)) + simplex[i]\n",
    "            # The first element that exceeds the function value of the reflected\n",
    "            if f(simplex[i]) > f(reflected):\n",
    "                simplex[i] = reflected\n",
    "                break\n",
    "        # Step 3: Stopping rule, when the simplex is small enough\n",
    "        if np.sum(abs(simplex[-1] - simplex[0])) < epsilon:\n",
    "            return simplex[-1]  # Return the best vertex\n",
    "        # Step 4: Shrink simplex\n",
    "        simplex = .5 * simplex[-1] + 0.5 * simplex\n",
    "\n",
    "# Example usage:\n",
    "def objective_function(x):\n",
    "    return np.sum((x - np.array([1.3, 0.8,.3]))**2)  # Example: minimize the sum of squares\n",
    "\n",
    "\n",
    "\n",
    "\n"
   ]
  },
  {
   "cell_type": "code",
   "execution_count": 390,
   "id": "cca16d35",
   "metadata": {},
   "outputs": [
    {
     "name": "stdout",
     "output_type": "stream",
     "text": [
      "Optimized vertex: [1.21677517 0.71625434 0.46697049]\n"
     ]
    }
   ],
   "source": [
    "# For a 3-dimensional problem, simplex (the convex hull) has three vertex\n",
    "initial_simplex = np.array([[0, 0, 0], [1, 0, 0], [0, 1, 0], [0, 0, 1]])\n",
    "\n",
    "\n",
    "result = polytope_algorithm(objective_function, initial_simplex, epsilon=1e-14)\n",
    "print(\"Optimized vertex:\", result)"
   ]
  },
  {
   "cell_type": "markdown",
   "id": "208f5918",
   "metadata": {},
   "source": [
    "### Newton Method\n",
    "- Iteration scheme: $x^{k + 1} = x^k - H^{-1}(x^k) (\\nabla f(x^k))^T$"
   ]
  },
  {
   "cell_type": "code",
   "execution_count": 15,
   "id": "38b02311",
   "metadata": {},
   "outputs": [
    {
     "name": "stdout",
     "output_type": "stream",
     "text": [
      "Optimal solution: [10. 14.]\n"
     ]
    }
   ],
   "source": [
    "# For simplicity, I show a 2 dimensional case, and I write a BFGS optimizer more explicitly below \n",
    "x = np.array([1.0,5.0])\n",
    "delta = 1e-10\n",
    "# Newton's method\n",
    "while 1:\n",
    "    print('Current (x,y) = ', x[0], x[1])\n",
    "    fx = pi(x)\n",
    "    grads = grad_func(x)\n",
    "    H = hessian(pi)(x)\n",
    "    s = np.linalg.solve(H, -grads.reshape(-1,1)).flatten()\n",
    "    \n",
    "    if (s**2).sum() < epsilon * (1 + (x**2).sum()):\n",
    "        print('Iteration ends')\n",
    "        if (grads**2).sum() > delta  * (1 + np.abs(fx)):\n",
    "            print('Not optimum')\n",
    "        else:\n",
    "            print('reach an optimum')\n",
    "        print('Success')\n",
    "        break\n",
    "    x = x + s"
   ]
  },
  {
   "cell_type": "markdown",
   "id": "846bee61",
   "metadata": {},
   "source": [
    "### Quasi-Newton method\n",
    "#### BFGS"
   ]
  },
  {
   "cell_type": "code",
   "execution_count": 4,
   "id": "e3d7235d",
   "metadata": {},
   "outputs": [],
   "source": [
    "import autograd.numpy as np\n",
    "from autograd import grad, hessian\n",
    "\n",
    "class BFGS:\n",
    "    \"\"\"\n",
    "    Description: This an example of a BFGS optimizer. \n",
    "    For faster convergence, I comment out the delta criterion\n",
    "    \"\"\"\n",
    "    def __init__(self, func, x, epsilon=1e-12,delta = 1e-10):\n",
    "        self.func = func\n",
    "        self.x = np.array(x, dtype=float)\n",
    "        self.epsilon = epsilon\n",
    "        self.delta = delta\n",
    "        self.H = np.eye(len(x))\n",
    "        self.grad_func = grad(func)\n",
    "        self.hessian_func = hessian(func)\n",
    "        \n",
    "    def line_search(self, s, c1=0.6, c2=0.8):\n",
    "        a = 0.5\n",
    "        fx = self.func(self.x)\n",
    "        grads = self.grad_func(self.x)\n",
    "        \n",
    "        while True:\n",
    "            new_x = self.x + a * s\n",
    "            new_grads = self.grad_func(new_x)\n",
    "            new_fx = self.func(new_x)\n",
    "            \n",
    "            if (new_fx <= fx + c1 * a * (grads.dot(s)) and \n",
    "                np.abs(new_grads.dot(s)) < np.abs(c2 * (grads.dot(s)))):\n",
    "                return a, new_x, new_grads,new_fx\n",
    "            a *= 2\n",
    "            if a > 4:\n",
    "                return 4, new_x, new_grads,new_fx\n",
    "\n",
    "    def update_hessian(self, z, y):\n",
    "        H = self.H\n",
    "        term1 = H - (H.dot(z.reshape(-1, 1)).dot(z.reshape(1, -1)).dot(H)) / (z.dot(H).dot(z))\n",
    "        term2 = (y.reshape(-1, 1).dot(y.reshape(1, -1))) / (y.dot(z))\n",
    "        return term1 + term2\n",
    "\n",
    "    def optimize(self):\n",
    "        while True:\n",
    "            fx = self.func(self.x)\n",
    "            grads = self.grad_func(self.x)\n",
    "            H = self.hessian_func(self.x)\n",
    "            s = np.linalg.solve(H, -grads.reshape(-1, 1)).flatten()\n",
    "            \n",
    "            lda, x_new, new_grads,new_fx = self.line_search(s)\n",
    "            z = lda * s\n",
    "            y = new_grads - grads\n",
    "            print('Current x: ',self.x)\n",
    "            self.x = x_new  # Update x to the new position calculated by line_search\n",
    "            self.H = self.update_hessian(z, y)\n",
    "\n",
    "            print('Current Function Value= ', fx)\n",
    "            if (lda < self.delta) or ((z**2).sum() < self.epsilon * (1 + (self.x**2).sum())):\n",
    "                print('Iteration ends')\n",
    "#                 if (grads**2).sum() > self.delta * (1 + np.abs(fx)):\n",
    "#                     print('Not optimum')\n",
    "#                 else:\n",
    "#                     print('Reached an optimum')\n",
    "                print('Success')\n",
    "                break\n",
    "\n"
   ]
  },
  {
   "cell_type": "code",
   "execution_count": 8,
   "id": "bc42099c",
   "metadata": {},
   "outputs": [
    {
     "name": "stdout",
     "output_type": "stream",
     "text": [
      "Current x:  [0.72993383 0.28998015 0.10239402]\n",
      "Current Function Value=  95.50570054925159\n",
      "Current x:  [16.42171173  6.5238385   2.30361295]\n",
      "Current Function Value=  23.87642513731291\n",
      "Current x:  [24.26760068  9.64076767  3.40422242]\n",
      "Current Function Value=  5.969106284328232\n",
      "Current x:  [28.19054516 11.19923226  3.95452715]\n",
      "Current Function Value=  1.492276571082058\n",
      "Current x:  [30.1520174  11.97846455  4.22967952]\n",
      "Current Function Value=  0.3730691427705145\n",
      "Current x:  [31.13275351 12.3680807   4.3672557 ]\n",
      "Current Function Value=  0.09326728569262754\n",
      "Current x:  [31.62312157 12.56288877  4.43604379]\n",
      "Current Function Value=  0.023316821423157157\n",
      "Current x:  [31.8683056  12.66029281  4.47043784]\n",
      "Current Function Value=  0.005829205355788747\n",
      "Current x:  [31.99089762 12.70899483  4.48763486]\n",
      "Current Function Value=  0.0014573013389473902\n",
      "Current x:  [32.05219363 12.73334584  4.49623337]\n",
      "Current Function Value=  0.0003643253347367797\n",
      "Current x:  [32.08284163 12.74552134  4.50053263]\n",
      "Current Function Value=  9.108133368422884e-05\n",
      "Current x:  [32.09816563 12.75160909  4.50268226]\n",
      "Current Function Value=  2.2770333421048733e-05\n",
      "Current x:  [32.10582763 12.75465297  4.50375707]\n",
      "Current Function Value=  5.692583355262183e-06\n",
      "Current x:  [32.10965863 12.75617491  4.50429448]\n",
      "Current Function Value=  1.4231458388176649e-06\n",
      "Current x:  [32.11157413 12.75693588  4.50456318]\n",
      "Current Function Value=  3.557864597022971e-07\n",
      "Current x:  [32.11253188 12.75731636  4.50469753]\n",
      "Current Function Value=  8.894661492557427e-08\n",
      "Current x:  [32.11301076 12.7575066   4.50476471]\n",
      "Current Function Value=  2.223665373139357e-08\n",
      "Current x:  [32.1132502  12.75760172  4.5047983 ]\n",
      "Current Function Value=  5.559163433245727e-09\n",
      "Current x:  [32.11336991 12.75764929  4.50481509]\n",
      "Current Function Value=  1.3897908582452092e-09\n",
      "Current x:  [32.11342977 12.75767307  4.50482349]\n",
      "Current Function Value=  3.474477145944135e-10\n",
      "Iteration ends\n",
      "Success\n"
     ]
    }
   ],
   "source": [
    "# Simple Example\n",
    "def fun(x):\n",
    "    x0, x1,x2 = x\n",
    "    u = x0**(.3) * x1**(.2)*x2**(.5)\n",
    "    return (u-10)**2\n",
    "\n",
    "bfgs = BFGS(func= fun, x=np.random.uniform(size=3))\n",
    "bfgs.optimize()\n",
    "\n",
    "## You can find a more useful example in the script ``logit_example'' in repo ``DiscreteChoiceModel_2024Summer'', \n",
    "## where I use BFGS optimizer to estimate the plain logit model using maximum likelihood estimator. "
   ]
  },
  {
   "cell_type": "code",
   "execution_count": 9,
   "id": "6511f0f4",
   "metadata": {},
   "outputs": [
    {
     "name": "stdout",
     "output_type": "stream",
     "text": [
      "Current x:  [0.1619784  0.56297325 0.02029818]\n",
      "Current Function Value=  1.429507938600607\n",
      "Current x:  [0.7309892  0.68148663 0.16014909]\n",
      "Current Function Value=  0.3573769846501518\n",
      "Current x:  [1.0154946  0.74074331 0.23007454]\n",
      "Current Function Value=  0.089344246162538\n",
      "Current x:  [1.1577473  0.77037166 0.26503727]\n",
      "Current Function Value=  0.02233606154063453\n",
      "Current x:  [1.22887365 0.78518583 0.28251864]\n",
      "Current Function Value=  0.0055840153851586145\n",
      "Current x:  [1.26443683 0.79259291 0.29125932]\n",
      "Current Function Value=  0.0013960038462896458\n",
      "Current x:  [1.28221841 0.79629646 0.29562966]\n",
      "Current Function Value=  0.0003490009615724071\n",
      "Current x:  [1.29110921 0.79814823 0.29781483]\n",
      "Current Function Value=  8.72502403930998e-05\n",
      "Current x:  [1.2955546  0.79907411 0.29890741]\n",
      "Current Function Value=  2.1812560098273964e-05\n",
      "Current x:  [1.2977773  0.79953706 0.29945371]\n",
      "Current Function Value=  5.453140024567997e-06\n",
      "Current x:  [1.29888865 0.79976853 0.29972685]\n",
      "Current Function Value=  1.3632850061417376e-06\n",
      "Current x:  [1.29944433 0.79988426 0.29986343]\n",
      "Current Function Value=  3.408212515355502e-07\n",
      "Current x:  [1.29972216 0.79994213 0.29993171]\n",
      "Current Function Value=  8.520531288395945e-08\n",
      "Current x:  [1.29986108 0.79997107 0.29996586]\n",
      "Current Function Value=  2.1301328221018814e-08\n",
      "Current x:  [1.29993054 0.79998553 0.29998293]\n",
      "Current Function Value=  5.3253320552367255e-09\n",
      "Current x:  [1.29996527 0.79999277 0.29999146]\n",
      "Current Function Value=  1.3313330138009962e-09\n",
      "Current x:  [1.29998264 0.79999638 0.29999573]\n",
      "Current Function Value=  3.3283325344622864e-10\n",
      "Current x:  [1.29999132 0.79999819 0.29999787]\n",
      "Current Function Value=  8.32083133636035e-11\n",
      "Current x:  [1.29999566 0.7999991  0.29999893]\n",
      "Current Function Value=  2.080207834009655e-11\n",
      "Current x:  [1.29999783 0.79999955 0.29999947]\n",
      "Current Function Value=  5.200519584512552e-12\n",
      "Iteration ends\n",
      "Success\n"
     ]
    }
   ],
   "source": [
    "# Also, we can use BFGS to solve the polytope example\n",
    "bfgs = BFGS(func= objective_function, x=np.random.uniform(size=3))\n",
    "bfgs.optimize()\n"
   ]
  },
  {
   "cell_type": "markdown",
   "id": "6fc271a4",
   "metadata": {},
   "source": [
    "## Nonlinear Equations\n",
    "- General forms for a non-linear system: $f:R^n \\rightarrow R^n$\n",
    "\n",
    "zeros of f: $f(x) = 0$\n",
    "\n",
    "fixed points of f: $ f(x) = x$"
   ]
  },
  {
   "cell_type": "markdown",
   "id": "fe9e4e67",
   "metadata": {},
   "source": [
    "### One-dimension\n",
    "#### Bisection (linear convergence)"
   ]
  },
  {
   "cell_type": "code",
   "execution_count": 115,
   "id": "a3a31ff1",
   "metadata": {},
   "outputs": [],
   "source": [
    "# Without losing generality, we assume a zero point exists between (0,10]\n",
    "epsilon = 1e-10\n",
    "def bisect(fun,a = 0.1):\n",
    "    init_fa = fun(a)\n",
    "    for potential_b in np.arange(a,4,0.1):\n",
    "        if fun(potential_b) * init_fa < 1e-10:\n",
    "            b = potential_b\n",
    "            break\n",
    "    else:\n",
    "        print('No potential b\\'s satisfy initialization criterion, choose another b range...')\n",
    "        return -1\n",
    "        \n",
    "    while True:\n",
    "        interm = (a+b)/2\n",
    "        fa = fun(a)\n",
    "        fb = fun(b)\n",
    "        if fa * fun(interm) <1e-10:\n",
    "            b = interm\n",
    "        else:\n",
    "            a = interm\n",
    "        print(interm)\n",
    "        if abs(b - a) < epsilon:\n",
    "            print('zero point has been found: ', interm)\n",
    "            break\n",
    "        "
   ]
  },
  {
   "cell_type": "code",
   "execution_count": 77,
   "id": "71747715",
   "metadata": {},
   "outputs": [],
   "source": [
    "# Example: we consider demand function, D = 2/p + 3; while supply function, S = 4p**3 - 2.\n",
    "# Therefore, the excess demand function, ED = 2/p + 3 - (4 * exp(p) - 2)\n",
    "\n",
    "def ed(p):\n",
    "    return 2/p + 3 - (4*np.exp(p) - 2)"
   ]
  },
  {
   "cell_type": "code",
   "execution_count": 78,
   "id": "44913cfd",
   "metadata": {},
   "outputs": [
    {
     "name": "stdout",
     "output_type": "stream",
     "text": [
      "0.55\n",
      "0.775\n",
      "0.6625000000000001\n",
      "0.71875\n",
      "0.690625\n",
      "0.6765625000000001\n",
      "0.68359375\n",
      "0.687109375\n",
      "0.6853515625\n",
      "0.68447265625\n",
      "0.684033203125\n",
      "0.6838134765625\n",
      "0.68370361328125\n",
      "0.683758544921875\n",
      "0.6837310791015625\n",
      "0.6837448120117188\n",
      "0.6837379455566406\n",
      "0.6837413787841797\n",
      "0.6837396621704102\n",
      "0.6837388038635254\n",
      "0.6837392330169678\n",
      "0.683739447593689\n",
      "0.6837393403053285\n",
      "0.6837393939495087\n",
      "0.6837394207715988\n",
      "0.6837394341826439\n",
      "0.6837394274771214\n",
      "0.6837394308298826\n",
      "0.6837394325062633\n",
      "0.6837394316680729\n",
      "0.6837394312489777\n",
      "0.6837394310394302\n",
      "0.6837394309346565\n",
      "0.6837394309870434\n",
      "zero point has been found:  0.6837394309870434\n"
     ]
    }
   ],
   "source": [
    "bisect(ed)"
   ]
  },
  {
   "cell_type": "markdown",
   "id": "32f0ea80",
   "metadata": {},
   "source": [
    "#### Newton's method (one-dimension case)\n",
    "- Linear approximation: $g(x) = f'(x_k)(x - x_k) + f(x_k)$\n",
    "- Iteration scheme: $x_{k + 1} = x_k - \\frac{f(x_k)}{f'(x_k)}$\n",
    "- With a hope that the sequence $x_k$ will converge to the zero of $f$ (quadratically convergent)"
   ]
  },
  {
   "cell_type": "code",
   "execution_count": 85,
   "id": "a2595a69",
   "metadata": {},
   "outputs": [],
   "source": [
    "def newton(fun,x0 = 0.1):\n",
    "    epsilon = 1e-10\n",
    "    delta = 1e-10\n",
    "    x = x0\n",
    "    grad_fun = grad(fun)\n",
    "    while True:\n",
    "        s = fun(x)/ grad_fun(x)\n",
    "        x -= s\n",
    "        print(x)\n",
    "        if abs(s)<epsilon * (1 + abs(x)):\n",
    "            print('Iteration ends......')\n",
    "            if abs(fun(x)) < delta:\n",
    "                print('Solution has been found: ', x)\n",
    "            else:\n",
    "                print('No solution has been found')\n",
    "            break"
   ]
  },
  {
   "cell_type": "code",
   "execution_count": 86,
   "id": "9f956139",
   "metadata": {},
   "outputs": [
    {
     "name": "stdout",
     "output_type": "stream",
     "text": [
      "0.2006713995766063\n",
      "0.385396411392974\n",
      "0.6081124116895442\n",
      "0.6818824743584165\n",
      "0.6837387720542631\n",
      "0.6837394309346968\n",
      "0.6837394309347784\n",
      "Iteration ends......\n",
      "Solution has been found:  0.6837394309347784\n"
     ]
    }
   ],
   "source": [
    "newton(ed)"
   ]
  },
  {
   "cell_type": "code",
   "execution_count": 105,
   "id": "3289b4bc",
   "metadata": {},
   "outputs": [],
   "source": [
    "# A simple CGE exmple with two consumers and two products\n",
    "# Following Walras' law, we only need to consider (n-1) market and we normalize p1 + p2 = 1\n",
    "r = -5\n",
    "a12 = 1\n",
    "a21 = 1\n",
    "a11 = 1024\n",
    "a22 = 1024\n",
    "e11 = 12\n",
    "e22 = 12\n",
    "e21 = 1\n",
    "e12 = 1\n",
    "\n",
    "def fun(p1):\n",
    "    p1 = p1\n",
    "    p2 = 1 - p1\n",
    "    x12 = (p1 * e11 + p2 * e12)/(p1 * (p1 * a12/p2/a11)**(1/r) + p2)\n",
    "    x22 = (p1 * e21 + p2 * e22)/(p1 * (p1 * a22/p2/a21)**(1/r) + p2)\n",
    "    return x12 + x22 - e12 - e22"
   ]
  },
  {
   "cell_type": "code",
   "execution_count": 117,
   "id": "4378ccff",
   "metadata": {},
   "outputs": [
    {
     "name": "stdout",
     "output_type": "stream",
     "text": [
      "0.4\n",
      "0.45\n",
      "0.475\n",
      "0.4875\n",
      "0.49375\n",
      "0.496875\n",
      "0.4984375\n",
      "0.49921875\n",
      "0.499609375\n",
      "0.4998046875\n",
      "0.49990234375\n",
      "0.499951171875\n",
      "0.4999755859375\n",
      "0.49998779296875\n",
      "0.49998168945312504\n",
      "0.4999847412109375\n",
      "0.49998321533203127\n",
      "0.49998245239257816\n",
      "0.49998207092285163\n",
      "0.49998188018798834\n",
      "0.49998178482055666\n",
      "0.49998173713684085\n",
      "0.499981713294983\n",
      "0.499981701374054\n",
      "0.4999816954135895\n",
      "0.49998169243335727\n",
      "0.4999816909432412\n",
      "0.4999816901981831\n",
      "0.49998168982565405\n",
      "0.49998168963938955\n",
      "0.4999816895462573\n",
      "zero point has been found:  0.4999816895462573\n"
     ]
    }
   ],
   "source": [
    "# This CGE has three equilibria, we can get all of them by setting different initial values\n",
    "bisect(fun,a = .3)"
   ]
  },
  {
   "cell_type": "code",
   "execution_count": 118,
   "id": "ef427e3f",
   "metadata": {},
   "outputs": [
    {
     "name": "stdout",
     "output_type": "stream",
     "text": [
      "0.11254257722463024\n",
      "0.1129234593732251\n",
      "0.11292384712759874\n",
      "0.11292384712800163\n",
      "Iteration ends......\n",
      "Solution has been found:  0.11292384712800163\n"
     ]
    }
   ],
   "source": [
    "newton(fun)"
   ]
  },
  {
   "cell_type": "code",
   "execution_count": 121,
   "id": "e9d76ebd",
   "metadata": {},
   "outputs": [
    {
     "name": "stdout",
     "output_type": "stream",
     "text": [
      "0.8889915781252126\n",
      "0.8871218805566008\n",
      "0.8870761793372882\n",
      "0.887076152872008\n",
      "0.8870761528719988\n",
      "Iteration ends......\n",
      "Solution has been found:  0.8870761528719988\n"
     ]
    }
   ],
   "source": [
    "newton(fun,x0=.9)"
   ]
  },
  {
   "cell_type": "code",
   "execution_count": null,
   "id": "998f7668",
   "metadata": {},
   "outputs": [],
   "source": []
  }
 ],
 "metadata": {
  "kernelspec": {
   "display_name": "Python 3 (ipykernel)",
   "language": "python",
   "name": "python3"
  },
  "language_info": {
   "codemirror_mode": {
    "name": "ipython",
    "version": 3
   },
   "file_extension": ".py",
   "mimetype": "text/x-python",
   "name": "python",
   "nbconvert_exporter": "python",
   "pygments_lexer": "ipython3",
   "version": "3.9.7"
  }
 },
 "nbformat": 4,
 "nbformat_minor": 5
}
